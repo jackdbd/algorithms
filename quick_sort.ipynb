{
 "cells": [
  {
   "cell_type": "markdown",
   "metadata": {},
   "source": [
    "# Quick Sort"
   ]
  },
  {
   "cell_type": "markdown",
   "metadata": {},
   "source": [
    "Quicksort is a divide and conquer algorithm.\n",
    "\n",
    "The steps are:\n",
    "\n",
    "1. Pick an element, called `pivot`, from the array.\n",
    "2. Partitioning: reorder the array so that all elements with values less than the pivot come before the pivot, while all elements with values greater than the pivot come after it (equal values can go either way). After this partitioning, the pivot is in its final position.\n",
    "3. Recursively apply steps 1 and 2 to the sub-array of elements with smaller values and separately to the sub-array of elements with greater values.\n",
    "\n",
    "The pivot selection and partitioning steps can be done in several different ways; the choice of specific implementation schemes greatly affects the algorithm's performance.\n",
    "\n",
    "The pivot can be any element in the array:\n",
    "\n",
    "- the first element\n",
    "- the last element\n",
    "- a random element\n",
    "- the median of the first, last, middle element"
   ]
  },
  {
   "cell_type": "markdown",
   "metadata": {},
   "source": [
    "**Time Complexity**\n",
    "\n",
    "- Best: $O(n)$\n",
    "- Worst: $O(n \\cdot log(n))$\n",
    "- Average: $O(n \\cdot log(n))$. There are $log_2(n)$ split operations and $n$ merge operations.\n",
    "\n",
    "**Space Complexity**\n",
    "\n",
    "- $O(n)$\n",
    "- $O(log(n))$"
   ]
  },
  {
   "cell_type": "markdown",
   "metadata": {},
   "source": [
    "There is a really neat way to sort sub-arrays on a pivot."
   ]
  },
  {
   "cell_type": "code",
   "execution_count": 54,
   "metadata": {},
   "outputs": [],
   "source": [
    "def quick_sort(arr):\n",
    "    if len(arr) < 2:\n",
    "        return arr\n",
    "    pivot = arr[0]\n",
    "    less = [x for x in arr[1:] if x <= pivot]\n",
    "    greater = [x for x in arr[1:] if x > pivot]\n",
    "    return quick_sort(less) + [pivot] + quick_sort(greater)"
   ]
  },
  {
   "cell_type": "markdown",
   "metadata": {},
   "source": [
    "The problem with this implementation is that every recursive call creates two sub-arrays. Sorting does not happen in-place here."
   ]
  },
  {
   "cell_type": "code",
   "execution_count": 70,
   "metadata": {},
   "outputs": [],
   "source": [
    "original_list = [5, 1, 3, 10, 4, 8, 7, 6, 2, 9]"
   ]
  },
  {
   "cell_type": "code",
   "execution_count": 69,
   "metadata": {},
   "outputs": [
    {
     "name": "stdout",
     "output_type": "stream",
     "text": [
      "Original: [5, 1, 3, 10, 4, 8, 7, 6, 2, 9]\n",
      "\n",
      "Sorted:   [1, 2, 3, 4, 5, 6, 7, 8, 9, 10]\n",
      "\n"
     ]
    }
   ],
   "source": [
    "print(f'Original: {original_list}\\n')\n",
    "print(f'Sorted:   {quick_sort(original_list)}\\n')"
   ]
  },
  {
   "cell_type": "markdown",
   "metadata": {},
   "source": [
    "There are several other ways to sort the array in-place in respect to a pivot. Here is one:"
   ]
  },
  {
   "cell_type": "code",
   "execution_count": 71,
   "metadata": {},
   "outputs": [],
   "source": [
    "def quicksort(array, begin=0, end=None):\n",
    "    begin = 0\n",
    "    end = len(array) - 1\n",
    "    \n",
    "    def partition(array, begin, end):\n",
    "        # here we pick the pivot as the first element\n",
    "        pivot = begin\n",
    "        for i in range(begin+1, end+1):\n",
    "            if array[i] <= array[begin]:\n",
    "                pivot += 1\n",
    "                array[i], array[pivot] = array[pivot], array[i]\n",
    "        array[pivot], array[begin] = array[begin], array[pivot]\n",
    "        return pivot\n",
    "\n",
    "    def _quicksort(array, begin, end):\n",
    "        if begin >= end:\n",
    "            return\n",
    "        pivot = partition(array, begin, end)\n",
    "        _quicksort(array, begin, pivot-1)\n",
    "        _quicksort(array, pivot+1, end)\n",
    "    \n",
    "    return _quicksort(array, begin, end)"
   ]
  },
  {
   "cell_type": "code",
   "execution_count": 72,
   "metadata": {},
   "outputs": [
    {
     "name": "stdout",
     "output_type": "stream",
     "text": [
      "Sorted in-place\n",
      "[1, 2, 3, 4, 5, 6, 7, 8, 9, 10]\n"
     ]
    }
   ],
   "source": [
    "print('Sorted in-place')\n",
    "quicksort(original_list)\n",
    "print(original_list)"
   ]
  },
  {
   "cell_type": "code",
   "execution_count": 73,
   "metadata": {},
   "outputs": [],
   "source": [
    "import big_o"
   ]
  },
  {
   "cell_type": "code",
   "execution_count": 81,
   "metadata": {},
   "outputs": [],
   "source": [
    "positive_int_generator = lambda n: big_o.datagen.integers(n, min_=10, max_=100)"
   ]
  },
  {
   "cell_type": "code",
   "execution_count": 83,
   "metadata": {},
   "outputs": [
    {
     "name": "stderr",
     "output_type": "stream",
     "text": [
      "/home/jack/.virtualenvs/algorithms-PPVpZbBi/lib/python3.6/site-packages/big_o/complexities.py:36: FutureWarning: `rcond` parameter will change to the default of machine precision times ``max(M, N)`` where M and N are the input matrix dimensions.\n",
      "To use the future default and silence this warning we advise to pass `rcond=None`, to keep using the old, explicitly pass `rcond=-1`.\n",
      "  coeff, residuals, rank, s = np.linalg.lstsq(x, y)\n"
     ]
    }
   ],
   "source": [
    "best, others = big_o.big_o(quick_sort,\n",
    "                           positive_int_generator,\n",
    "                           min_n=100, max_n=10000, n_repeats=10)"
   ]
  },
  {
   "cell_type": "code",
   "execution_count": 84,
   "metadata": {},
   "outputs": [
    {
     "name": "stdout",
     "output_type": "stream",
     "text": [
      "Quadratic: time = 0.05 + 7.5E-09*n^2\n"
     ]
    }
   ],
   "source": [
    "print(best)"
   ]
  }
 ],
 "metadata": {
  "kernelspec": {
   "display_name": "Python 3",
   "language": "python",
   "name": "python3"
  },
  "language_info": {
   "codemirror_mode": {
    "name": "ipython",
    "version": 3
   },
   "file_extension": ".py",
   "mimetype": "text/x-python",
   "name": "python",
   "nbconvert_exporter": "python",
   "pygments_lexer": "ipython3",
   "version": "3.6.3"
  }
 },
 "nbformat": 4,
 "nbformat_minor": 2
}
