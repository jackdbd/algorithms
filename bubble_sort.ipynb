{
 "cells": [
  {
   "cell_type": "markdown",
   "metadata": {},
   "source": [
    "# Bubble Sort"
   ]
  },
  {
   "cell_type": "code",
   "execution_count": 1,
   "metadata": {},
   "outputs": [],
   "source": [
    "from copy import copy, deepcopy\n",
    "\n",
    "def bubble_sort(orig_list, debug=False):\n",
    "    arr = copy(orig_list)\n",
    "    passage_num = 1\n",
    "    swapped = True\n",
    "    # keep scanning until encounter no swaps in an entire passage (i.e. the array is sorted)\n",
    "    while swapped:\n",
    "        swapped = False\n",
    "        for i in range(len(arr)-1):\n",
    "            if arr[i] > arr[i+1]:\n",
    "                arr[i], arr[i+1] = arr[i+1], arr[i]\n",
    "                swapped = True\n",
    "        if debug:\n",
    "            print(f'After passage {passage_num}')\n",
    "            print(arr)\n",
    "        passage_num += 1\n",
    "    \n",
    "    return arr"
   ]
  },
  {
   "cell_type": "code",
   "execution_count": 2,
   "metadata": {},
   "outputs": [],
   "source": [
    "from copy import copy\n",
    "\n",
    "def bubble_sort_optimized(orig_list, debug=False):\n",
    "    arr = copy(orig_list)\n",
    "    passage_num = 1\n",
    "    # outer loop to set where to stop scanning in a single passage\n",
    "    for n in range(len(arr)-1, 0, -1):\n",
    "        # inner loop for scanning (one passage)\n",
    "        for i in range(n):\n",
    "            if arr[i] > arr[i+1]:\n",
    "                arr[i], arr[i+1] = arr[i+1], arr[i]\n",
    "        if debug:\n",
    "            print(f'After passage {passage_num} (last comparison at index {n})')\n",
    "            print(arr)\n",
    "        passage_num += 1\n",
    "    \n",
    "    return arr"
   ]
  },
  {
   "cell_type": "markdown",
   "metadata": {},
   "source": [
    "### Test it with some data"
   ]
  },
  {
   "cell_type": "code",
   "execution_count": 3,
   "metadata": {},
   "outputs": [],
   "source": [
    "original_list = [5, 1, 3, 10, 4, 8, 7, 6, 2, 9]"
   ]
  },
  {
   "cell_type": "code",
   "execution_count": 4,
   "metadata": {},
   "outputs": [
    {
     "name": "stdout",
     "output_type": "stream",
     "text": [
      "Original: [5, 1, 3, 10, 4, 8, 7, 6, 2, 9]\n",
      "\n",
      "After passage 1\n",
      "[1, 3, 5, 4, 8, 7, 6, 2, 9, 10]\n",
      "After passage 2\n",
      "[1, 3, 4, 5, 7, 6, 2, 8, 9, 10]\n",
      "After passage 3\n",
      "[1, 3, 4, 5, 6, 2, 7, 8, 9, 10]\n",
      "After passage 4\n",
      "[1, 3, 4, 5, 2, 6, 7, 8, 9, 10]\n",
      "After passage 5\n",
      "[1, 3, 4, 2, 5, 6, 7, 8, 9, 10]\n",
      "After passage 6\n",
      "[1, 3, 2, 4, 5, 6, 7, 8, 9, 10]\n",
      "After passage 7\n",
      "[1, 2, 3, 4, 5, 6, 7, 8, 9, 10]\n",
      "After passage 8\n",
      "[1, 2, 3, 4, 5, 6, 7, 8, 9, 10]\n"
     ]
    }
   ],
   "source": [
    "print(f'Original: {original_list}\\n')\n",
    "sorted_list = bubble_sort(original_list, debug=True)"
   ]
  },
  {
   "cell_type": "code",
   "execution_count": 5,
   "metadata": {},
   "outputs": [
    {
     "name": "stdout",
     "output_type": "stream",
     "text": [
      "Original: [5, 1, 3, 10, 4, 8, 7, 6, 2, 9]\n",
      "\n",
      "After passage 1 (last comparison at index 9)\n",
      "[1, 3, 5, 4, 8, 7, 6, 2, 9, 10]\n",
      "After passage 2 (last comparison at index 8)\n",
      "[1, 3, 4, 5, 7, 6, 2, 8, 9, 10]\n",
      "After passage 3 (last comparison at index 7)\n",
      "[1, 3, 4, 5, 6, 2, 7, 8, 9, 10]\n",
      "After passage 4 (last comparison at index 6)\n",
      "[1, 3, 4, 5, 2, 6, 7, 8, 9, 10]\n",
      "After passage 5 (last comparison at index 5)\n",
      "[1, 3, 4, 2, 5, 6, 7, 8, 9, 10]\n",
      "After passage 6 (last comparison at index 4)\n",
      "[1, 3, 2, 4, 5, 6, 7, 8, 9, 10]\n",
      "After passage 7 (last comparison at index 3)\n",
      "[1, 2, 3, 4, 5, 6, 7, 8, 9, 10]\n",
      "After passage 8 (last comparison at index 2)\n",
      "[1, 2, 3, 4, 5, 6, 7, 8, 9, 10]\n",
      "After passage 9 (last comparison at index 1)\n",
      "[1, 2, 3, 4, 5, 6, 7, 8, 9, 10]\n"
     ]
    }
   ],
   "source": [
    "print(f'Original: {original_list}\\n')\n",
    "sorted_list = bubble_sort_optimized(original_list, debug=True)"
   ]
  },
  {
   "cell_type": "code",
   "execution_count": 6,
   "metadata": {},
   "outputs": [
    {
     "name": "stdout",
     "output_type": "stream",
     "text": [
      "15.4 µs ± 497 ns per loop (mean ± std. dev. of 7 runs, 10000 loops each)\n"
     ]
    }
   ],
   "source": [
    "%%timeit\n",
    "bubble_sort(original_list)"
   ]
  },
  {
   "cell_type": "code",
   "execution_count": 7,
   "metadata": {},
   "outputs": [
    {
     "name": "stdout",
     "output_type": "stream",
     "text": [
      "12.2 µs ± 188 ns per loop (mean ± std. dev. of 7 runs, 100000 loops each)\n"
     ]
    }
   ],
   "source": [
    "%%timeit\n",
    "bubble_sort_optimized(original_list)"
   ]
  },
  {
   "cell_type": "code",
   "execution_count": null,
   "metadata": {},
   "outputs": [],
   "source": []
  }
 ],
 "metadata": {
  "kernelspec": {
   "display_name": "Python 3",
   "language": "python",
   "name": "python3"
  },
  "language_info": {
   "codemirror_mode": {
    "name": "ipython",
    "version": 3
   },
   "file_extension": ".py",
   "mimetype": "text/x-python",
   "name": "python",
   "nbconvert_exporter": "python",
   "pygments_lexer": "ipython3",
   "version": "3.6.3"
  }
 },
 "nbformat": 4,
 "nbformat_minor": 2
}
